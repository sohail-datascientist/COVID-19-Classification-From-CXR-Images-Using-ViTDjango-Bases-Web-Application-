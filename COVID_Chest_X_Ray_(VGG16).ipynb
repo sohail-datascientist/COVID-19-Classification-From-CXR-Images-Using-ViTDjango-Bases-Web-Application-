{
 "cells": [
  {
   "cell_type": "markdown",
   "metadata": {
    "id": "mNz1rfK3xpmR"
   },
   "source": [
    "**Import Necessary Libraries**"
   ]
  },
  {
   "cell_type": "code",
   "execution_count": 3,
   "metadata": {
    "id": "ySGlFOelnaHr"
   },
   "outputs": [],
   "source": [
    "import os\n",
    "import pandas as pd\n",
    "import numpy as np\n",
    "from tqdm import tqdm\n",
    "import keras\n",
    "from keras.utils.np_utils import to_categorical\n",
    "import cv2\n",
    "import tensorflow as tf\n",
    "from sklearn.model_selection import train_test_split\n",
    "from keras.layers import  Flatten, Dense, Dropout\n",
    "from tensorflow.keras.applications import VGG16\n",
    "from keras.models import Model\n",
    "from keras import optimizers\n",
    "from tensorflow.keras.optimizers import Adam\n",
    "from keras.layers import Dense, GlobalAveragePooling2D\n",
    "from keras.layers import Dense, Dropout, Flatten, Conv2D, MaxPool2D, BatchNormalization, AveragePooling2D, GlobalAveragePooling2D\n",
    "import keras_preprocessing\n",
    "from keras_preprocessing import image\n",
    "from keras_preprocessing.image import ImageDataGenerator\n",
    "from keras import callbacks\n",
    "import matplotlib.pyplot as plt\n",
    "from sklearn.metrics import confusion_matrix\n",
    "import seaborn as sns"
   ]
  },
  {
   "cell_type": "code",
   "execution_count": 4,
   "metadata": {
    "colab": {
     "base_uri": "https://localhost:8080/"
    },
    "id": "JjQ_O1JKyH9s",
    "outputId": "df72c910-2d41-407a-a584-51349c130e3e"
   },
   "outputs": [
    {
     "name": "stderr",
     "output_type": "stream",
     "text": [
      "UsageError: Line magic function `%tensorflow_version` not found.\n"
     ]
    }
   ],
   "source": [
    "%tensorflow_version 2.x\n",
    "print(tf.__version__)\n",
    "print(tf.test.gpu_device_name())\n",
    "print(\"Num GPUs Available: \", len(tf.config.experimental.list_physical_devices('GPU')))"
   ]
  },
  {
   "cell_type": "markdown",
   "metadata": {
    "id": "q9O49obFxttu"
   },
   "source": [
    "**Split Into Train Data & Test Data**"
   ]
  },
  {
   "cell_type": "code",
   "execution_count": 9,
   "metadata": {
    "id": "5BPRbgW4nn3e"
   },
   "outputs": [],
   "source": [
    "disease_types=['COVID', 'non-COVID']\n",
    "data_dir = r'D:\\FYPProject\\Dataset'\n",
    "train_dir = os.path.join(data_dir)"
   ]
  },
  {
   "cell_type": "code",
   "execution_count": 10,
   "metadata": {
    "id": "fMQE6EEMrniq"
   },
   "outputs": [],
   "source": [
    "train_data = []\n",
    "for defects_id, sp in enumerate(disease_types):\n",
    "    for file in os.listdir(os.path.join(train_dir, sp)):\n",
    "        train_data.append(['{}/{}'.format(sp, file), defects_id, sp])      \n",
    "train = pd.DataFrame(train_data, columns=['File', 'DiseaseID','Disease Type'])"
   ]
  },
  {
   "cell_type": "code",
   "execution_count": 11,
   "metadata": {
    "id": "bOA185RhroWb"
   },
   "outputs": [],
   "source": [
    "IMAGE_SIZE = 150\n",
    "def read_image(filepath):\n",
    "    return cv2.imread(os.path.join(data_dir, filepath)) \n",
    "def resize_image(image, image_size):\n",
    "    return cv2.resize(image.copy(), image_size, interpolation=cv2.INTER_AREA)"
   ]
  },
  {
   "cell_type": "code",
   "execution_count": 8,
   "metadata": {
    "colab": {
     "base_uri": "https://localhost:8080/"
    },
    "id": "w0aI-ZCor8lr",
    "outputId": "32f7e10d-6a56-43a9-b5a8-27962ae84e1e"
   },
   "outputs": [
    {
     "name": "stderr",
     "output_type": "stream",
     "text": [
      "1824it [01:08, 26.54it/s]\n"
     ]
    },
    {
     "name": "stdout",
     "output_type": "stream",
     "text": [
      "(1824, 150, 150, 3)\n"
     ]
    }
   ],
   "source": [
    "X_train = np.zeros((train.shape[0], IMAGE_SIZE, IMAGE_SIZE, 3))\n",
    "for i, file in tqdm(enumerate(train['File'].values)):\n",
    "    image = read_image(file)\n",
    "    if image is not None:\n",
    "        X_train[i] = resize_image(image, (IMAGE_SIZE, IMAGE_SIZE))\n",
    "X_Train = X_train / 255.\n",
    "print(X_Train.shape)"
   ]
  },
  {
   "cell_type": "code",
   "execution_count": 12,
   "metadata": {
    "id": "yvlrhwtXr9uo"
   },
   "outputs": [],
   "source": [
    "Y_train = train['DiseaseID'].values\n",
    "Y_train = to_categorical(Y_train, num_classes=2)"
   ]
  },
  {
   "cell_type": "code",
   "execution_count": 13,
   "metadata": {
    "id": "aa3zZ55CsBqm"
   },
   "outputs": [],
   "source": [
    "X_train, X_val, Y_train, Y_val = train_test_split(X_Train, Y_train, test_size=0.1)"
   ]
  },
  {
   "cell_type": "markdown",
   "metadata": {
    "id": "TcaWuy-DxxuJ"
   },
   "source": [
    "**Define VGG16 Model Architecture**"
   ]
  },
  {
   "cell_type": "code",
   "execution_count": 14,
   "metadata": {
    "colab": {
     "base_uri": "https://localhost:8080/"
    },
    "id": "PTzIgz1xsC6s",
    "outputId": "f1936fe1-79c6-4234-c1d6-728c9cc5b499"
   },
   "outputs": [
    {
     "name": "stdout",
     "output_type": "stream",
     "text": [
      "Downloading data from https://storage.googleapis.com/tensorflow/keras-applications/vgg16/vgg16_weights_tf_dim_ordering_tf_kernels_notop.h5\n",
      "58892288/58889256 [==============================] - 83s 1us/step\n",
      "58900480/58889256 [==============================] - 83s 1us/step\n",
      "Model: \"VGG16_Architecture\"\n",
      "_________________________________________________________________\n",
      " Layer (type)                Output Shape              Param #   \n",
      "=================================================================\n",
      " input_1 (InputLayer)        [(None, 150, 150, 3)]     0         \n",
      "                                                                 \n",
      " block1_conv1 (Conv2D)       (None, 150, 150, 64)      1792      \n",
      "                                                                 \n",
      " block1_conv2 (Conv2D)       (None, 150, 150, 64)      36928     \n",
      "                                                                 \n",
      " block1_pool (MaxPooling2D)  (None, 75, 75, 64)        0         \n",
      "                                                                 \n",
      " block2_conv1 (Conv2D)       (None, 75, 75, 128)       73856     \n",
      "                                                                 \n",
      " block2_conv2 (Conv2D)       (None, 75, 75, 128)       147584    \n",
      "                                                                 \n",
      " block2_pool (MaxPooling2D)  (None, 37, 37, 128)       0         \n",
      "                                                                 \n",
      " block3_conv1 (Conv2D)       (None, 37, 37, 256)       295168    \n",
      "                                                                 \n",
      " block3_conv2 (Conv2D)       (None, 37, 37, 256)       590080    \n",
      "                                                                 \n",
      " block3_conv3 (Conv2D)       (None, 37, 37, 256)       590080    \n",
      "                                                                 \n",
      " block3_pool (MaxPooling2D)  (None, 18, 18, 256)       0         \n",
      "                                                                 \n",
      " block4_conv1 (Conv2D)       (None, 18, 18, 512)       1180160   \n",
      "                                                                 \n",
      " block4_conv2 (Conv2D)       (None, 18, 18, 512)       2359808   \n",
      "                                                                 \n",
      " block4_conv3 (Conv2D)       (None, 18, 18, 512)       2359808   \n",
      "                                                                 \n",
      " block4_pool (MaxPooling2D)  (None, 9, 9, 512)         0         \n",
      "                                                                 \n",
      " block5_conv1 (Conv2D)       (None, 9, 9, 512)         2359808   \n",
      "                                                                 \n",
      " block5_conv2 (Conv2D)       (None, 9, 9, 512)         2359808   \n",
      "                                                                 \n",
      " block5_conv3 (Conv2D)       (None, 9, 9, 512)         2359808   \n",
      "                                                                 \n",
      " block5_pool (MaxPooling2D)  (None, 4, 4, 512)         0         \n",
      "                                                                 \n",
      " global_average_pooling2d (G  (None, 512)              0         \n",
      " lobalAveragePooling2D)                                          \n",
      "                                                                 \n",
      " batch_normalization (BatchN  (None, 512)              2048      \n",
      " ormalization)                                                   \n",
      "                                                                 \n",
      " dropout (Dropout)           (None, 512)               0         \n",
      "                                                                 \n",
      " dense (Dense)               (None, 256)               131328    \n",
      "                                                                 \n",
      " batch_normalization_1 (Batc  (None, 256)              1024      \n",
      " hNormalization)                                                 \n",
      "                                                                 \n",
      " dropout_1 (Dropout)         (None, 256)               0         \n",
      "                                                                 \n",
      " dense_1 (Dense)             (None, 2)                 514       \n",
      "                                                                 \n",
      "=================================================================\n",
      "Total params: 14,849,602\n",
      "Trainable params: 133,378\n",
      "Non-trainable params: 14,716,224\n",
      "_________________________________________________________________\n"
     ]
    },
    {
     "name": "stderr",
     "output_type": "stream",
     "text": [
      "C:\\Users\\Sohail Ahmed\\anaconda3\\lib\\site-packages\\keras\\optimizer_v2\\adam.py:105: UserWarning: The `lr` argument is deprecated, use `learning_rate` instead.\n",
      "  super(Adam, self).__init__(name, **kwargs)\n"
     ]
    }
   ],
   "source": [
    "vgg16_model = VGG16(weights = 'imagenet', include_top = False,input_shape=(150,150,3))\n",
    "x = vgg16_model.output\n",
    "x = GlobalAveragePooling2D()(x)\n",
    "x = BatchNormalization()(x)\n",
    "x = Dropout(0.5)(x)\n",
    "x = Dense(256, activation='relu')(x)\n",
    "x = BatchNormalization()(x)\n",
    "x = Dropout(0.5)(x)\n",
    "\n",
    "predictions = Dense(2, activation = 'softmax')(x)\n",
    "model = Model(vgg16_model.input,predictions)\n",
    "for layer in vgg16_model.layers:\n",
    "    layer.trainable = False\n",
    "optimizer = Adam(lr=0.0002)\n",
    "model.compile(loss='binary_crossentropy', optimizer=optimizer, metrics=['accuracy'])\n",
    "model._name = \"VGG16_Architecture\"\n",
    "model.summary()"
   ]
  },
  {
   "cell_type": "markdown",
   "metadata": {
    "id": "l0e-97zBx1tX"
   },
   "source": [
    "**Train the Model**"
   ]
  },
  {
   "cell_type": "code",
   "execution_count": 15,
   "metadata": {
    "colab": {
     "base_uri": "https://localhost:8080/"
    },
    "id": "YHjD6EQSsFC_",
    "outputId": "ba69f58c-956d-4fcd-db2a-b5d60dbdf507"
   },
   "outputs": [
    {
     "name": "stdout",
     "output_type": "stream",
     "text": [
      "Epoch 1/100\n",
      "10/10 [==============================] - ETA: 0s - loss: 0.8860 - accuracy: 0.5835WARNING:tensorflow:Your input ran out of data; interrupting training. Make sure that your dataset or generator can generate at least `steps_per_epoch * epochs` batches (in this case, 50 batches). You may need to use the repeat() function when building your dataset.\n",
      "\n",
      "Epoch 1: val_loss improved from inf to 0.68222, saving model to VGG16_Model.h5\n",
      "10/10 [==============================] - 100s 9s/step - loss: 0.8860 - accuracy: 0.5835 - val_loss: 0.6822 - val_accuracy: 0.5410\n",
      "Epoch 2/100\n",
      "10/10 [==============================] - ETA: 0s - loss: 0.7051 - accuracy: 0.6922WARNING:tensorflow:Can save best model only with val_loss available, skipping.\n",
      "10/10 [==============================] - 63s 6s/step - loss: 0.7051 - accuracy: 0.6922\n",
      "Epoch 3/100\n",
      "10/10 [==============================] - ETA: 0s - loss: 0.5229 - accuracy: 0.7844WARNING:tensorflow:Can save best model only with val_loss available, skipping.\n",
      "10/10 [==============================] - 57s 5s/step - loss: 0.5229 - accuracy: 0.7844\n",
      "Epoch 4/100\n",
      "10/10 [==============================] - ETA: 0s - loss: 0.5377 - accuracy: 0.7781WARNING:tensorflow:Can save best model only with val_loss available, skipping.\n",
      "10/10 [==============================] - 63s 6s/step - loss: 0.5377 - accuracy: 0.7781\n",
      "Epoch 5/100\n",
      "10/10 [==============================] - ETA: 0s - loss: 0.4586 - accuracy: 0.8250WARNING:tensorflow:Can save best model only with val_loss available, skipping.\n",
      "10/10 [==============================] - 63s 6s/step - loss: 0.4586 - accuracy: 0.8250\n",
      "Epoch 6/100\n",
      "10/10 [==============================] - ETA: 0s - loss: 0.4886 - accuracy: 0.8188WARNING:tensorflow:Can save best model only with val_loss available, skipping.\n",
      "10/10 [==============================] - 61s 6s/step - loss: 0.4886 - accuracy: 0.8188\n",
      "Epoch 7/100\n",
      "10/10 [==============================] - ETA: 0s - loss: 0.4276 - accuracy: 0.8331WARNING:tensorflow:Can save best model only with val_loss available, skipping.\n",
      "10/10 [==============================] - 59s 6s/step - loss: 0.4276 - accuracy: 0.8331\n",
      "Epoch 8/100\n",
      "10/10 [==============================] - ETA: 0s - loss: 0.4237 - accuracy: 0.8484WARNING:tensorflow:Can save best model only with val_loss available, skipping.\n",
      "10/10 [==============================] - 65s 6s/step - loss: 0.4237 - accuracy: 0.8484\n",
      "Epoch 9/100\n",
      "10/10 [==============================] - ETA: 0s - loss: 0.4036 - accuracy: 0.8331WARNING:tensorflow:Can save best model only with val_loss available, skipping.\n",
      "10/10 [==============================] - 62s 6s/step - loss: 0.4036 - accuracy: 0.8331\n",
      "Epoch 10/100\n",
      "10/10 [==============================] - ETA: 0s - loss: 0.3590 - accuracy: 0.8590WARNING:tensorflow:Can save best model only with val_loss available, skipping.\n",
      "10/10 [==============================] - 65s 7s/step - loss: 0.3590 - accuracy: 0.8590\n",
      "Epoch 11/100\n",
      "10/10 [==============================] - ETA: 0s - loss: 0.3601 - accuracy: 0.8609WARNING:tensorflow:Can save best model only with val_loss available, skipping.\n",
      "10/10 [==============================] - 64s 6s/step - loss: 0.3601 - accuracy: 0.8609\n",
      "Epoch 12/100\n",
      "10/10 [==============================] - ETA: 0s - loss: 0.3705 - accuracy: 0.8672WARNING:tensorflow:Can save best model only with val_loss available, skipping.\n",
      "10/10 [==============================] - 63s 6s/step - loss: 0.3705 - accuracy: 0.8672\n",
      "Epoch 13/100\n",
      "10/10 [==============================] - ETA: 0s - loss: 0.3753 - accuracy: 0.8609WARNING:tensorflow:Can save best model only with val_loss available, skipping.\n",
      "10/10 [==============================] - 64s 6s/step - loss: 0.3753 - accuracy: 0.8609\n",
      "Epoch 14/100\n",
      "10/10 [==============================] - ETA: 0s - loss: 0.3194 - accuracy: 0.8797WARNING:tensorflow:Can save best model only with val_loss available, skipping.\n",
      "10/10 [==============================] - 63s 6s/step - loss: 0.3194 - accuracy: 0.8797\n",
      "Epoch 15/100\n",
      "10/10 [==============================] - ETA: 0s - loss: 0.3388 - accuracy: 0.8752WARNING:tensorflow:Can save best model only with val_loss available, skipping.\n",
      "10/10 [==============================] - 61s 6s/step - loss: 0.3388 - accuracy: 0.8752\n",
      "Epoch 16/100\n",
      "10/10 [==============================] - ETA: 0s - loss: 0.3026 - accuracy: 0.8979WARNING:tensorflow:Can save best model only with val_loss available, skipping.\n",
      "10/10 [==============================] - 57s 5s/step - loss: 0.3026 - accuracy: 0.8979\n",
      "Epoch 17/100\n",
      "10/10 [==============================] - ETA: 0s - loss: 0.2874 - accuracy: 0.8969WARNING:tensorflow:Can save best model only with val_loss available, skipping.\n",
      "10/10 [==============================] - 63s 6s/step - loss: 0.2874 - accuracy: 0.8969\n",
      "Epoch 18/100\n",
      "10/10 [==============================] - ETA: 0s - loss: 0.3111 - accuracy: 0.8703WARNING:tensorflow:Can save best model only with val_loss available, skipping.\n",
      "10/10 [==============================] - 61s 6s/step - loss: 0.3111 - accuracy: 0.8703\n",
      "Epoch 19/100\n",
      "10/10 [==============================] - ETA: 0s - loss: 0.3257 - accuracy: 0.8797WARNING:tensorflow:Can save best model only with val_loss available, skipping.\n",
      "10/10 [==============================] - 63s 6s/step - loss: 0.3257 - accuracy: 0.8797\n",
      "Epoch 20/100\n",
      "10/10 [==============================] - ETA: 0s - loss: 0.3147 - accuracy: 0.8969WARNING:tensorflow:Can save best model only with val_loss available, skipping.\n",
      "10/10 [==============================] - 68s 6s/step - loss: 0.3147 - accuracy: 0.8969\n",
      "Epoch 21/100\n",
      "10/10 [==============================] - ETA: 0s - loss: 0.2844 - accuracy: 0.8979WARNING:tensorflow:Can save best model only with val_loss available, skipping.\n",
      "10/10 [==============================] - 69s 7s/step - loss: 0.2844 - accuracy: 0.8979\n",
      "Epoch 22/100\n",
      "10/10 [==============================] - ETA: 0s - loss: 0.3046 - accuracy: 0.8859WARNING:tensorflow:Can save best model only with val_loss available, skipping.\n",
      "10/10 [==============================] - 61s 6s/step - loss: 0.3046 - accuracy: 0.8859\n",
      "Epoch 23/100\n",
      "10/10 [==============================] - ETA: 0s - loss: 0.2871 - accuracy: 0.8906WARNING:tensorflow:Can save best model only with val_loss available, skipping.\n",
      "10/10 [==============================] - 69s 7s/step - loss: 0.2871 - accuracy: 0.8906\n",
      "Epoch 24/100\n",
      "10/10 [==============================] - ETA: 0s - loss: 0.2812 - accuracy: 0.8930WARNING:tensorflow:Can save best model only with val_loss available, skipping.\n",
      "10/10 [==============================] - 66s 7s/step - loss: 0.2812 - accuracy: 0.8930\n",
      "Epoch 25/100\n",
      "10/10 [==============================] - ETA: 0s - loss: 0.2960 - accuracy: 0.8947WARNING:tensorflow:Can save best model only with val_loss available, skipping.\n",
      "10/10 [==============================] - 60s 6s/step - loss: 0.2960 - accuracy: 0.8947\n",
      "Epoch 26/100\n",
      "10/10 [==============================] - ETA: 0s - loss: 0.2364 - accuracy: 0.9203WARNING:tensorflow:Can save best model only with val_loss available, skipping.\n",
      "10/10 [==============================] - 65s 6s/step - loss: 0.2364 - accuracy: 0.9203\n",
      "Epoch 27/100\n",
      "10/10 [==============================] - ETA: 0s - loss: 0.3053 - accuracy: 0.8844WARNING:tensorflow:Can save best model only with val_loss available, skipping.\n",
      "10/10 [==============================] - 62s 6s/step - loss: 0.3053 - accuracy: 0.8844\n",
      "Epoch 28/100\n",
      "10/10 [==============================] - ETA: 0s - loss: 0.3074 - accuracy: 0.8734WARNING:tensorflow:Can save best model only with val_loss available, skipping.\n",
      "10/10 [==============================] - 63s 6s/step - loss: 0.3074 - accuracy: 0.8734\n",
      "Epoch 29/100\n",
      "10/10 [==============================] - ETA: 0s - loss: 0.3021 - accuracy: 0.8963WARNING:tensorflow:Can save best model only with val_loss available, skipping.\n",
      "10/10 [==============================] - 64s 6s/step - loss: 0.3021 - accuracy: 0.8963\n",
      "Epoch 30/100\n",
      "10/10 [==============================] - ETA: 0s - loss: 0.2795 - accuracy: 0.9028WARNING:tensorflow:Can save best model only with val_loss available, skipping.\n",
      "10/10 [==============================] - 61s 6s/step - loss: 0.2795 - accuracy: 0.9028\n",
      "Epoch 31/100\n"
     ]
    },
    {
     "name": "stdout",
     "output_type": "stream",
     "text": [
      "10/10 [==============================] - ETA: 0s - loss: 0.2589 - accuracy: 0.9092WARNING:tensorflow:Can save best model only with val_loss available, skipping.\n",
      "10/10 [==============================] - 69s 6s/step - loss: 0.2589 - accuracy: 0.9092\n",
      "Epoch 32/100\n",
      "10/10 [==============================] - ETA: 0s - loss: 0.2674 - accuracy: 0.9078WARNING:tensorflow:Can save best model only with val_loss available, skipping.\n",
      "10/10 [==============================] - 64s 6s/step - loss: 0.2674 - accuracy: 0.9078\n",
      "Epoch 33/100\n",
      "10/10 [==============================] - ETA: 0s - loss: 0.2917 - accuracy: 0.8922WARNING:tensorflow:Can save best model only with val_loss available, skipping.\n",
      "10/10 [==============================] - 64s 6s/step - loss: 0.2917 - accuracy: 0.8922\n",
      "Epoch 34/100\n",
      "10/10 [==============================] - ETA: 0s - loss: 0.2409 - accuracy: 0.9078WARNING:tensorflow:Can save best model only with val_loss available, skipping.\n",
      "10/10 [==============================] - 65s 6s/step - loss: 0.2409 - accuracy: 0.9078\n",
      "Epoch 35/100\n",
      "10/10 [==============================] - ETA: 0s - loss: 0.2600 - accuracy: 0.9078WARNING:tensorflow:Can save best model only with val_loss available, skipping.\n",
      "10/10 [==============================] - 60s 6s/step - loss: 0.2600 - accuracy: 0.9078\n",
      "Epoch 36/100\n",
      "10/10 [==============================] - ETA: 0s - loss: 0.2726 - accuracy: 0.8984WARNING:tensorflow:Can save best model only with val_loss available, skipping.\n",
      "10/10 [==============================] - 61s 6s/step - loss: 0.2726 - accuracy: 0.8984\n",
      "Epoch 37/100\n",
      "10/10 [==============================] - ETA: 0s - loss: 0.2462 - accuracy: 0.8947WARNING:tensorflow:Can save best model only with val_loss available, skipping.\n",
      "10/10 [==============================] - 64s 6s/step - loss: 0.2462 - accuracy: 0.8947\n",
      "Epoch 38/100\n",
      "10/10 [==============================] - ETA: 0s - loss: 0.2603 - accuracy: 0.9011WARNING:tensorflow:Can save best model only with val_loss available, skipping.\n",
      "10/10 [==============================] - 59s 6s/step - loss: 0.2603 - accuracy: 0.9011\n",
      "Epoch 39/100\n",
      "10/10 [==============================] - ETA: 0s - loss: 0.2339 - accuracy: 0.9060WARNING:tensorflow:Can save best model only with val_loss available, skipping.\n",
      "10/10 [==============================] - 61s 6s/step - loss: 0.2339 - accuracy: 0.9060\n",
      "Epoch 40/100\n",
      "10/10 [==============================] - ETA: 0s - loss: 0.2596 - accuracy: 0.9044WARNING:tensorflow:Can save best model only with val_loss available, skipping.\n",
      "10/10 [==============================] - 65s 6s/step - loss: 0.2596 - accuracy: 0.9044\n",
      "Epoch 41/100\n",
      "10/10 [==============================] - ETA: 0s - loss: 0.2213 - accuracy: 0.9156WARNING:tensorflow:Can save best model only with val_loss available, skipping.\n",
      "10/10 [==============================] - 60s 6s/step - loss: 0.2213 - accuracy: 0.9156\n",
      "Epoch 42/100\n",
      "10/10 [==============================] - ETA: 0s - loss: 0.2535 - accuracy: 0.9172WARNING:tensorflow:Can save best model only with val_loss available, skipping.\n",
      "10/10 [==============================] - 62s 6s/step - loss: 0.2535 - accuracy: 0.9172\n",
      "Epoch 43/100\n",
      "10/10 [==============================] - ETA: 0s - loss: 0.2752 - accuracy: 0.8865WARNING:tensorflow:Can save best model only with val_loss available, skipping.\n",
      "10/10 [==============================] - 63s 6s/step - loss: 0.2752 - accuracy: 0.8865\n",
      "Epoch 44/100\n",
      "10/10 [==============================] - ETA: 0s - loss: 0.2202 - accuracy: 0.9172WARNING:tensorflow:Can save best model only with val_loss available, skipping.\n",
      "10/10 [==============================] - 59s 6s/step - loss: 0.2202 - accuracy: 0.9172\n",
      "Epoch 45/100\n",
      "10/10 [==============================] - ETA: 0s - loss: 0.1992 - accuracy: 0.9328WARNING:tensorflow:Can save best model only with val_loss available, skipping.\n",
      "10/10 [==============================] - 65s 6s/step - loss: 0.1992 - accuracy: 0.9328\n",
      "Epoch 46/100\n",
      "10/10 [==============================] - ETA: 0s - loss: 0.2174 - accuracy: 0.9206WARNING:tensorflow:Can save best model only with val_loss available, skipping.\n",
      "10/10 [==============================] - 65s 6s/step - loss: 0.2174 - accuracy: 0.9206\n",
      "Epoch 47/100\n",
      "10/10 [==============================] - ETA: 0s - loss: 0.2588 - accuracy: 0.9078WARNING:tensorflow:Can save best model only with val_loss available, skipping.\n",
      "10/10 [==============================] - 69s 7s/step - loss: 0.2588 - accuracy: 0.9078\n",
      "Epoch 48/100\n",
      "10/10 [==============================] - ETA: 0s - loss: 0.2389 - accuracy: 0.9047WARNING:tensorflow:Can save best model only with val_loss available, skipping.\n",
      "10/10 [==============================] - 74s 7s/step - loss: 0.2389 - accuracy: 0.9047\n",
      "Epoch 49/100\n",
      "10/10 [==============================] - ETA: 0s - loss: 0.2281 - accuracy: 0.9156WARNING:tensorflow:Can save best model only with val_loss available, skipping.\n",
      "10/10 [==============================] - 73s 7s/step - loss: 0.2281 - accuracy: 0.9156\n",
      "Epoch 50/100\n",
      "10/10 [==============================] - ETA: 0s - loss: 0.2625 - accuracy: 0.9125WARNING:tensorflow:Can save best model only with val_loss available, skipping.\n",
      "10/10 [==============================] - 67s 7s/step - loss: 0.2625 - accuracy: 0.9125\n",
      "Epoch 51/100\n",
      "10/10 [==============================] - ETA: 0s - loss: 0.2108 - accuracy: 0.9203WARNING:tensorflow:Can save best model only with val_loss available, skipping.\n",
      "10/10 [==============================] - 74s 7s/step - loss: 0.2108 - accuracy: 0.9203\n",
      "Epoch 52/100\n",
      "10/10 [==============================] - ETA: 0s - loss: 0.1844 - accuracy: 0.9287WARNING:tensorflow:Can save best model only with val_loss available, skipping.\n",
      "10/10 [==============================] - 54s 5s/step - loss: 0.1844 - accuracy: 0.9287\n",
      "Epoch 53/100\n",
      "10/10 [==============================] - ETA: 0s - loss: 0.2287 - accuracy: 0.9156WARNING:tensorflow:Can save best model only with val_loss available, skipping.\n",
      "10/10 [==============================] - 45s 4s/step - loss: 0.2287 - accuracy: 0.9156\n",
      "Epoch 54/100\n",
      "10/10 [==============================] - ETA: 0s - loss: 0.2387 - accuracy: 0.9157WARNING:tensorflow:Can save best model only with val_loss available, skipping.\n",
      "10/10 [==============================] - 46s 4s/step - loss: 0.2387 - accuracy: 0.9157\n",
      "Epoch 55/100\n",
      "10/10 [==============================] - ETA: 0s - loss: 0.2058 - accuracy: 0.9238WARNING:tensorflow:Can save best model only with val_loss available, skipping.\n",
      "10/10 [==============================] - 45s 4s/step - loss: 0.2058 - accuracy: 0.9238\n",
      "Epoch 56/100\n",
      "10/10 [==============================] - ETA: 0s - loss: 0.2547 - accuracy: 0.8914WARNING:tensorflow:Can save best model only with val_loss available, skipping.\n",
      "10/10 [==============================] - 47s 5s/step - loss: 0.2547 - accuracy: 0.8914\n",
      "Epoch 57/100\n",
      "10/10 [==============================] - ETA: 0s - loss: 0.1995 - accuracy: 0.9297WARNING:tensorflow:Can save best model only with val_loss available, skipping.\n",
      "10/10 [==============================] - 48s 5s/step - loss: 0.1995 - accuracy: 0.9297\n",
      "Epoch 58/100\n",
      "10/10 [==============================] - ETA: 0s - loss: 0.2090 - accuracy: 0.9219WARNING:tensorflow:Can save best model only with val_loss available, skipping.\n",
      "10/10 [==============================] - 49s 5s/step - loss: 0.2090 - accuracy: 0.9219\n",
      "Epoch 59/100\n",
      "10/10 [==============================] - ETA: 0s - loss: 0.2202 - accuracy: 0.9266WARNING:tensorflow:Can save best model only with val_loss available, skipping.\n",
      "10/10 [==============================] - 48s 5s/step - loss: 0.2202 - accuracy: 0.9266\n",
      "Epoch 60/100\n",
      "10/10 [==============================] - ETA: 0s - loss: 0.2343 - accuracy: 0.9203WARNING:tensorflow:Can save best model only with val_loss available, skipping.\n",
      "10/10 [==============================] - 47s 5s/step - loss: 0.2343 - accuracy: 0.9203\n",
      "Epoch 61/100\n",
      "10/10 [==============================] - ETA: 0s - loss: 0.2017 - accuracy: 0.9297WARNING:tensorflow:Can save best model only with val_loss available, skipping.\n",
      "10/10 [==============================] - 46s 4s/step - loss: 0.2017 - accuracy: 0.9297\n",
      "Epoch 62/100\n",
      "10/10 [==============================] - ETA: 0s - loss: 0.2295 - accuracy: 0.9141WARNING:tensorflow:Can save best model only with val_loss available, skipping.\n"
     ]
    },
    {
     "name": "stdout",
     "output_type": "stream",
     "text": [
      "10/10 [==============================] - 39s 4s/step - loss: 0.2295 - accuracy: 0.9141\n",
      "Epoch 63/100\n",
      "10/10 [==============================] - ETA: 0s - loss: 0.1824 - accuracy: 0.9312WARNING:tensorflow:Can save best model only with val_loss available, skipping.\n",
      "10/10 [==============================] - 40s 4s/step - loss: 0.1824 - accuracy: 0.9312\n",
      "Epoch 64/100\n",
      "10/10 [==============================] - ETA: 0s - loss: 0.2342 - accuracy: 0.9109WARNING:tensorflow:Can save best model only with val_loss available, skipping.\n",
      "10/10 [==============================] - 45s 4s/step - loss: 0.2342 - accuracy: 0.9109\n",
      "Epoch 65/100\n",
      "10/10 [==============================] - ETA: 0s - loss: 0.2192 - accuracy: 0.9125WARNING:tensorflow:Can save best model only with val_loss available, skipping.\n",
      "10/10 [==============================] - 38s 4s/step - loss: 0.2192 - accuracy: 0.9125\n",
      "Epoch 66/100\n",
      "10/10 [==============================] - ETA: 0s - loss: 0.2247 - accuracy: 0.9125WARNING:tensorflow:Can save best model only with val_loss available, skipping.\n",
      "10/10 [==============================] - 45s 4s/step - loss: 0.2247 - accuracy: 0.9125\n",
      "Epoch 67/100\n",
      "10/10 [==============================] - ETA: 0s - loss: 0.2465 - accuracy: 0.9011WARNING:tensorflow:Can save best model only with val_loss available, skipping.\n",
      "10/10 [==============================] - 43s 4s/step - loss: 0.2465 - accuracy: 0.9011\n",
      "Epoch 68/100\n",
      "10/10 [==============================] - ETA: 0s - loss: 0.2478 - accuracy: 0.9172WARNING:tensorflow:Can save best model only with val_loss available, skipping.\n",
      "10/10 [==============================] - 44s 4s/step - loss: 0.2478 - accuracy: 0.9172\n",
      "Epoch 69/100\n",
      "10/10 [==============================] - ETA: 0s - loss: 0.2178 - accuracy: 0.9156WARNING:tensorflow:Can save best model only with val_loss available, skipping.\n",
      "10/10 [==============================] - 44s 4s/step - loss: 0.2178 - accuracy: 0.9156\n",
      "Epoch 70/100\n",
      "10/10 [==============================] - ETA: 0s - loss: 0.1677 - accuracy: 0.9391WARNING:tensorflow:Can save best model only with val_loss available, skipping.\n",
      "10/10 [==============================] - 39s 4s/step - loss: 0.1677 - accuracy: 0.9391\n",
      "Epoch 71/100\n",
      "10/10 [==============================] - ETA: 0s - loss: 0.2080 - accuracy: 0.9281WARNING:tensorflow:Can save best model only with val_loss available, skipping.\n",
      "10/10 [==============================] - 47s 5s/step - loss: 0.2080 - accuracy: 0.9281\n",
      "Epoch 72/100\n",
      "10/10 [==============================] - ETA: 0s - loss: 0.2104 - accuracy: 0.9344WARNING:tensorflow:Can save best model only with val_loss available, skipping.\n",
      "10/10 [==============================] - 39s 4s/step - loss: 0.2104 - accuracy: 0.9344\n",
      "Epoch 73/100\n",
      "10/10 [==============================] - ETA: 0s - loss: 0.2078 - accuracy: 0.9141WARNING:tensorflow:Can save best model only with val_loss available, skipping.\n",
      "10/10 [==============================] - 49s 5s/step - loss: 0.2078 - accuracy: 0.9141\n",
      "Epoch 74/100\n",
      "10/10 [==============================] - ETA: 0s - loss: 0.2296 - accuracy: 0.9141WARNING:tensorflow:Can save best model only with val_loss available, skipping.\n",
      "10/10 [==============================] - 47s 5s/step - loss: 0.2296 - accuracy: 0.9141\n",
      "Epoch 75/100\n",
      "10/10 [==============================] - ETA: 0s - loss: 0.2007 - accuracy: 0.9222WARNING:tensorflow:Can save best model only with val_loss available, skipping.\n",
      "10/10 [==============================] - 38s 4s/step - loss: 0.2007 - accuracy: 0.9222\n",
      "Epoch 76/100\n",
      "10/10 [==============================] - ETA: 0s - loss: 0.2423 - accuracy: 0.9031WARNING:tensorflow:Can save best model only with val_loss available, skipping.\n",
      "10/10 [==============================] - 46s 5s/step - loss: 0.2423 - accuracy: 0.9031\n",
      "Epoch 77/100\n",
      "10/10 [==============================] - ETA: 0s - loss: 0.2327 - accuracy: 0.9156WARNING:tensorflow:Can save best model only with val_loss available, skipping.\n",
      "10/10 [==============================] - 38s 4s/step - loss: 0.2327 - accuracy: 0.9156\n",
      "Epoch 78/100\n",
      "10/10 [==============================] - ETA: 0s - loss: 0.2581 - accuracy: 0.8898WARNING:tensorflow:Can save best model only with val_loss available, skipping.\n",
      "10/10 [==============================] - 44s 4s/step - loss: 0.2581 - accuracy: 0.8898\n",
      "Epoch 79/100\n",
      "10/10 [==============================] - ETA: 0s - loss: 0.2283 - accuracy: 0.9219WARNING:tensorflow:Can save best model only with val_loss available, skipping.\n",
      "10/10 [==============================] - 45s 4s/step - loss: 0.2283 - accuracy: 0.9219\n",
      "Epoch 80/100\n",
      "10/10 [==============================] - ETA: 0s - loss: 0.1845 - accuracy: 0.9375WARNING:tensorflow:Can save best model only with val_loss available, skipping.\n",
      "10/10 [==============================] - 40s 4s/step - loss: 0.1845 - accuracy: 0.9375\n",
      "Epoch 81/100\n",
      "10/10 [==============================] - ETA: 0s - loss: 0.2183 - accuracy: 0.9190WARNING:tensorflow:Can save best model only with val_loss available, skipping.\n",
      "10/10 [==============================] - 44s 4s/step - loss: 0.2183 - accuracy: 0.9190\n",
      "Epoch 82/100\n",
      "10/10 [==============================] - ETA: 0s - loss: 0.2151 - accuracy: 0.9219WARNING:tensorflow:Can save best model only with val_loss available, skipping.\n",
      "10/10 [==============================] - 38s 4s/step - loss: 0.2151 - accuracy: 0.9219\n",
      "Epoch 83/100\n",
      "10/10 [==============================] - ETA: 0s - loss: 0.2138 - accuracy: 0.9250WARNING:tensorflow:Can save best model only with val_loss available, skipping.\n",
      "10/10 [==============================] - 45s 4s/step - loss: 0.2138 - accuracy: 0.9250\n",
      "Epoch 84/100\n",
      "10/10 [==============================] - ETA: 0s - loss: 0.2007 - accuracy: 0.9266WARNING:tensorflow:Can save best model only with val_loss available, skipping.\n",
      "10/10 [==============================] - 42s 4s/step - loss: 0.2007 - accuracy: 0.9266\n",
      "Epoch 85/100\n",
      "10/10 [==============================] - ETA: 0s - loss: 0.2191 - accuracy: 0.9172WARNING:tensorflow:Can save best model only with val_loss available, skipping.\n",
      "10/10 [==============================] - 42s 4s/step - loss: 0.2191 - accuracy: 0.9172\n",
      "Epoch 86/100\n",
      "10/10 [==============================] - ETA: 0s - loss: 0.2296 - accuracy: 0.9219WARNING:tensorflow:Can save best model only with val_loss available, skipping.\n",
      "10/10 [==============================] - 46s 5s/step - loss: 0.2296 - accuracy: 0.9219\n",
      "Epoch 87/100\n",
      "10/10 [==============================] - ETA: 0s - loss: 0.1888 - accuracy: 0.9328WARNING:tensorflow:Can save best model only with val_loss available, skipping.\n",
      "10/10 [==============================] - 31s 3s/step - loss: 0.1888 - accuracy: 0.9328\n",
      "Epoch 88/100\n",
      "10/10 [==============================] - ETA: 0s - loss: 0.2285 - accuracy: 0.9172WARNING:tensorflow:Can save best model only with val_loss available, skipping.\n",
      "10/10 [==============================] - 26s 3s/step - loss: 0.2285 - accuracy: 0.9172\n",
      "Epoch 89/100\n",
      "10/10 [==============================] - ETA: 0s - loss: 0.1888 - accuracy: 0.9266WARNING:tensorflow:Can save best model only with val_loss available, skipping.\n",
      "10/10 [==============================] - 43s 4s/step - loss: 0.1888 - accuracy: 0.9266\n",
      "Epoch 90/100\n",
      "10/10 [==============================] - ETA: 0s - loss: 0.2139 - accuracy: 0.9344WARNING:tensorflow:Can save best model only with val_loss available, skipping.\n",
      "10/10 [==============================] - 45s 4s/step - loss: 0.2139 - accuracy: 0.9344\n",
      "Epoch 91/100\n",
      "10/10 [==============================] - ETA: 0s - loss: 0.1780 - accuracy: 0.9312WARNING:tensorflow:Can save best model only with val_loss available, skipping.\n",
      "10/10 [==============================] - 38s 4s/step - loss: 0.1780 - accuracy: 0.9312\n",
      "Epoch 92/100\n",
      "10/10 [==============================] - ETA: 0s - loss: 0.2231 - accuracy: 0.9156WARNING:tensorflow:Can save best model only with val_loss available, skipping.\n",
      "10/10 [==============================] - 45s 4s/step - loss: 0.2231 - accuracy: 0.9156\n",
      "Epoch 93/100\n",
      "10/10 [==============================] - ETA: 0s - loss: 0.2002 - accuracy: 0.9271WARNING:tensorflow:Can save best model only with val_loss available, skipping.\n",
      "10/10 [==============================] - 39s 4s/step - loss: 0.2002 - accuracy: 0.9271\n",
      "Epoch 94/100\n"
     ]
    },
    {
     "name": "stdout",
     "output_type": "stream",
     "text": [
      "10/10 [==============================] - ETA: 0s - loss: 0.2301 - accuracy: 0.9203WARNING:tensorflow:Can save best model only with val_loss available, skipping.\n",
      "10/10 [==============================] - 45s 5s/step - loss: 0.2301 - accuracy: 0.9203\n",
      "Epoch 95/100\n",
      "10/10 [==============================] - ETA: 0s - loss: 0.2277 - accuracy: 0.9016WARNING:tensorflow:Can save best model only with val_loss available, skipping.\n",
      "10/10 [==============================] - 50s 5s/step - loss: 0.2277 - accuracy: 0.9016\n",
      "Epoch 96/100\n",
      "10/10 [==============================] - ETA: 0s - loss: 0.1875 - accuracy: 0.9391WARNING:tensorflow:Can save best model only with val_loss available, skipping.\n",
      "10/10 [==============================] - 42s 4s/step - loss: 0.1875 - accuracy: 0.9391\n",
      "Epoch 97/100\n",
      "10/10 [==============================] - ETA: 0s - loss: 0.2016 - accuracy: 0.9156WARNING:tensorflow:Can save best model only with val_loss available, skipping.\n",
      "10/10 [==============================] - 49s 5s/step - loss: 0.2016 - accuracy: 0.9156\n",
      "Epoch 98/100\n",
      "10/10 [==============================] - ETA: 0s - loss: 0.2293 - accuracy: 0.9078WARNING:tensorflow:Can save best model only with val_loss available, skipping.\n",
      "10/10 [==============================] - 45s 4s/step - loss: 0.2293 - accuracy: 0.9078\n",
      "Epoch 99/100\n",
      "10/10 [==============================] - ETA: 0s - loss: 0.2172 - accuracy: 0.9141WARNING:tensorflow:Can save best model only with val_loss available, skipping.\n",
      "10/10 [==============================] - 25s 2s/step - loss: 0.2172 - accuracy: 0.9141\n",
      "Epoch 100/100\n",
      "10/10 [==============================] - ETA: 0s - loss: 0.1742 - accuracy: 0.9375WARNING:tensorflow:Can save best model only with val_loss available, skipping.\n",
      "10/10 [==============================] - 40s 4s/step - loss: 0.1742 - accuracy: 0.9375\n"
     ]
    }
   ],
   "source": [
    "training_datagen = ImageDataGenerator(rotation_range=40, \n",
    "                        width_shift_range=0.2, \n",
    "                        height_shift_range=0.2, \n",
    "                        zoom_range=0.2, \n",
    "                        horizontal_flip=True, \n",
    "                        vertical_flip=True,\n",
    "                        shear_range=0.2) \n",
    "\n",
    "train_generator = training_datagen.flow(\n",
    "\tX_train, Y_train,\n",
    "batch_size=64\n",
    ")\n",
    "training_datagen.fit(X_train)\n",
    "\n",
    "\n",
    "filepath=\"VGG16_Model.h5\"\n",
    "checkpoint = callbacks.ModelCheckpoint(filepath, monitor='val_loss',save_best_only=True, mode='min',verbose=1)\n",
    "callbacks_list = [checkpoint]\n",
    "\n",
    "history = model.fit(train_generator, steps_per_epoch=10, epochs=100,\n",
    "                              validation_data=(X_val, Y_val),validation_steps=50,callbacks=callbacks_list)"
   ]
  },
  {
   "cell_type": "markdown",
   "metadata": {
    "id": "EJHImwyDx40f"
   },
   "source": [
    "**Plot the Results**"
   ]
  },
  {
   "cell_type": "code",
   "execution_count": 16,
   "metadata": {
    "id": "8Wgt_QeG-NQx"
   },
   "outputs": [],
   "source": [
    "acc = history.history['accuracy']\n",
    "val_acc = history.history['val_accuracy']\n",
    "loss = history.history['loss']\n",
    "val_loss = history.history['val_loss']"
   ]
  },
  {
   "cell_type": "code",
   "execution_count": 17,
   "metadata": {
    "colab": {
     "base_uri": "https://localhost:8080/",
     "height": 298
    },
    "id": "JDH2QVT-B4A7",
    "outputId": "462ef14f-0646-49f4-f470-795033258846"
   },
   "outputs": [
    {
     "ename": "ValueError",
     "evalue": "x and y must have same first dimension, but have shapes (100,) and (1,)",
     "output_type": "error",
     "traceback": [
      "\u001b[1;31m---------------------------------------------------------------------------\u001b[0m",
      "\u001b[1;31mValueError\u001b[0m                                Traceback (most recent call last)",
      "\u001b[1;32mC:\\Users\\SOHAIL~1\\AppData\\Local\\Temp/ipykernel_2140/4105407696.py\u001b[0m in \u001b[0;36m<module>\u001b[1;34m\u001b[0m\n\u001b[0;32m      1\u001b[0m \u001b[0mepochs\u001b[0m \u001b[1;33m=\u001b[0m \u001b[0mrange\u001b[0m\u001b[1;33m(\u001b[0m\u001b[0mlen\u001b[0m\u001b[1;33m(\u001b[0m\u001b[0macc\u001b[0m\u001b[1;33m)\u001b[0m\u001b[1;33m)\u001b[0m\u001b[1;33m\u001b[0m\u001b[1;33m\u001b[0m\u001b[0m\n\u001b[0;32m      2\u001b[0m \u001b[0mplt\u001b[0m\u001b[1;33m.\u001b[0m\u001b[0mplot\u001b[0m\u001b[1;33m(\u001b[0m\u001b[0mepochs\u001b[0m\u001b[1;33m,\u001b[0m \u001b[0macc\u001b[0m\u001b[1;33m,\u001b[0m \u001b[1;34m'r'\u001b[0m\u001b[1;33m,\u001b[0m \u001b[0mlabel\u001b[0m\u001b[1;33m=\u001b[0m\u001b[1;34m'Training accuracy'\u001b[0m\u001b[1;33m)\u001b[0m\u001b[1;33m\u001b[0m\u001b[1;33m\u001b[0m\u001b[0m\n\u001b[1;32m----> 3\u001b[1;33m \u001b[0mplt\u001b[0m\u001b[1;33m.\u001b[0m\u001b[0mplot\u001b[0m\u001b[1;33m(\u001b[0m\u001b[0mepochs\u001b[0m\u001b[1;33m,\u001b[0m \u001b[0mval_acc\u001b[0m\u001b[1;33m,\u001b[0m \u001b[1;34m'b'\u001b[0m\u001b[1;33m,\u001b[0m \u001b[0mlabel\u001b[0m\u001b[1;33m=\u001b[0m\u001b[1;34m'Validation accuracy'\u001b[0m\u001b[1;33m)\u001b[0m\u001b[1;33m\u001b[0m\u001b[1;33m\u001b[0m\u001b[0m\n\u001b[0m\u001b[0;32m      4\u001b[0m \u001b[0mplt\u001b[0m\u001b[1;33m.\u001b[0m\u001b[0mtitle\u001b[0m\u001b[1;33m(\u001b[0m\u001b[1;34m'TraiN & Val Acc VS Epochs'\u001b[0m\u001b[1;33m)\u001b[0m\u001b[1;33m\u001b[0m\u001b[1;33m\u001b[0m\u001b[0m\n\u001b[0;32m      5\u001b[0m \u001b[0mplt\u001b[0m\u001b[1;33m.\u001b[0m\u001b[0mlegend\u001b[0m\u001b[1;33m(\u001b[0m\u001b[0mloc\u001b[0m\u001b[1;33m=\u001b[0m\u001b[1;36m0\u001b[0m\u001b[1;33m)\u001b[0m\u001b[1;33m\u001b[0m\u001b[1;33m\u001b[0m\u001b[0m\n",
      "\u001b[1;32m~\\anaconda3\\lib\\site-packages\\matplotlib\\pyplot.py\u001b[0m in \u001b[0;36mplot\u001b[1;34m(scalex, scaley, data, *args, **kwargs)\u001b[0m\n\u001b[0;32m   3017\u001b[0m \u001b[1;33m@\u001b[0m\u001b[0m_copy_docstring_and_deprecators\u001b[0m\u001b[1;33m(\u001b[0m\u001b[0mAxes\u001b[0m\u001b[1;33m.\u001b[0m\u001b[0mplot\u001b[0m\u001b[1;33m)\u001b[0m\u001b[1;33m\u001b[0m\u001b[1;33m\u001b[0m\u001b[0m\n\u001b[0;32m   3018\u001b[0m \u001b[1;32mdef\u001b[0m \u001b[0mplot\u001b[0m\u001b[1;33m(\u001b[0m\u001b[1;33m*\u001b[0m\u001b[0margs\u001b[0m\u001b[1;33m,\u001b[0m \u001b[0mscalex\u001b[0m\u001b[1;33m=\u001b[0m\u001b[1;32mTrue\u001b[0m\u001b[1;33m,\u001b[0m \u001b[0mscaley\u001b[0m\u001b[1;33m=\u001b[0m\u001b[1;32mTrue\u001b[0m\u001b[1;33m,\u001b[0m \u001b[0mdata\u001b[0m\u001b[1;33m=\u001b[0m\u001b[1;32mNone\u001b[0m\u001b[1;33m,\u001b[0m \u001b[1;33m**\u001b[0m\u001b[0mkwargs\u001b[0m\u001b[1;33m)\u001b[0m\u001b[1;33m:\u001b[0m\u001b[1;33m\u001b[0m\u001b[1;33m\u001b[0m\u001b[0m\n\u001b[1;32m-> 3019\u001b[1;33m     return gca().plot(\n\u001b[0m\u001b[0;32m   3020\u001b[0m         \u001b[1;33m*\u001b[0m\u001b[0margs\u001b[0m\u001b[1;33m,\u001b[0m \u001b[0mscalex\u001b[0m\u001b[1;33m=\u001b[0m\u001b[0mscalex\u001b[0m\u001b[1;33m,\u001b[0m \u001b[0mscaley\u001b[0m\u001b[1;33m=\u001b[0m\u001b[0mscaley\u001b[0m\u001b[1;33m,\u001b[0m\u001b[1;33m\u001b[0m\u001b[1;33m\u001b[0m\u001b[0m\n\u001b[0;32m   3021\u001b[0m         **({\"data\": data} if data is not None else {}), **kwargs)\n",
      "\u001b[1;32m~\\anaconda3\\lib\\site-packages\\matplotlib\\axes\\_axes.py\u001b[0m in \u001b[0;36mplot\u001b[1;34m(self, scalex, scaley, data, *args, **kwargs)\u001b[0m\n\u001b[0;32m   1603\u001b[0m         \"\"\"\n\u001b[0;32m   1604\u001b[0m         \u001b[0mkwargs\u001b[0m \u001b[1;33m=\u001b[0m \u001b[0mcbook\u001b[0m\u001b[1;33m.\u001b[0m\u001b[0mnormalize_kwargs\u001b[0m\u001b[1;33m(\u001b[0m\u001b[0mkwargs\u001b[0m\u001b[1;33m,\u001b[0m \u001b[0mmlines\u001b[0m\u001b[1;33m.\u001b[0m\u001b[0mLine2D\u001b[0m\u001b[1;33m)\u001b[0m\u001b[1;33m\u001b[0m\u001b[1;33m\u001b[0m\u001b[0m\n\u001b[1;32m-> 1605\u001b[1;33m         \u001b[0mlines\u001b[0m \u001b[1;33m=\u001b[0m \u001b[1;33m[\u001b[0m\u001b[1;33m*\u001b[0m\u001b[0mself\u001b[0m\u001b[1;33m.\u001b[0m\u001b[0m_get_lines\u001b[0m\u001b[1;33m(\u001b[0m\u001b[1;33m*\u001b[0m\u001b[0margs\u001b[0m\u001b[1;33m,\u001b[0m \u001b[0mdata\u001b[0m\u001b[1;33m=\u001b[0m\u001b[0mdata\u001b[0m\u001b[1;33m,\u001b[0m \u001b[1;33m**\u001b[0m\u001b[0mkwargs\u001b[0m\u001b[1;33m)\u001b[0m\u001b[1;33m]\u001b[0m\u001b[1;33m\u001b[0m\u001b[1;33m\u001b[0m\u001b[0m\n\u001b[0m\u001b[0;32m   1606\u001b[0m         \u001b[1;32mfor\u001b[0m \u001b[0mline\u001b[0m \u001b[1;32min\u001b[0m \u001b[0mlines\u001b[0m\u001b[1;33m:\u001b[0m\u001b[1;33m\u001b[0m\u001b[1;33m\u001b[0m\u001b[0m\n\u001b[0;32m   1607\u001b[0m             \u001b[0mself\u001b[0m\u001b[1;33m.\u001b[0m\u001b[0madd_line\u001b[0m\u001b[1;33m(\u001b[0m\u001b[0mline\u001b[0m\u001b[1;33m)\u001b[0m\u001b[1;33m\u001b[0m\u001b[1;33m\u001b[0m\u001b[0m\n",
      "\u001b[1;32m~\\anaconda3\\lib\\site-packages\\matplotlib\\axes\\_base.py\u001b[0m in \u001b[0;36m__call__\u001b[1;34m(self, data, *args, **kwargs)\u001b[0m\n\u001b[0;32m    313\u001b[0m                 \u001b[0mthis\u001b[0m \u001b[1;33m+=\u001b[0m \u001b[0margs\u001b[0m\u001b[1;33m[\u001b[0m\u001b[1;36m0\u001b[0m\u001b[1;33m]\u001b[0m\u001b[1;33m,\u001b[0m\u001b[1;33m\u001b[0m\u001b[1;33m\u001b[0m\u001b[0m\n\u001b[0;32m    314\u001b[0m                 \u001b[0margs\u001b[0m \u001b[1;33m=\u001b[0m \u001b[0margs\u001b[0m\u001b[1;33m[\u001b[0m\u001b[1;36m1\u001b[0m\u001b[1;33m:\u001b[0m\u001b[1;33m]\u001b[0m\u001b[1;33m\u001b[0m\u001b[1;33m\u001b[0m\u001b[0m\n\u001b[1;32m--> 315\u001b[1;33m             \u001b[1;32myield\u001b[0m \u001b[1;32mfrom\u001b[0m \u001b[0mself\u001b[0m\u001b[1;33m.\u001b[0m\u001b[0m_plot_args\u001b[0m\u001b[1;33m(\u001b[0m\u001b[0mthis\u001b[0m\u001b[1;33m,\u001b[0m \u001b[0mkwargs\u001b[0m\u001b[1;33m)\u001b[0m\u001b[1;33m\u001b[0m\u001b[1;33m\u001b[0m\u001b[0m\n\u001b[0m\u001b[0;32m    316\u001b[0m \u001b[1;33m\u001b[0m\u001b[0m\n\u001b[0;32m    317\u001b[0m     \u001b[1;32mdef\u001b[0m \u001b[0mget_next_color\u001b[0m\u001b[1;33m(\u001b[0m\u001b[0mself\u001b[0m\u001b[1;33m)\u001b[0m\u001b[1;33m:\u001b[0m\u001b[1;33m\u001b[0m\u001b[1;33m\u001b[0m\u001b[0m\n",
      "\u001b[1;32m~\\anaconda3\\lib\\site-packages\\matplotlib\\axes\\_base.py\u001b[0m in \u001b[0;36m_plot_args\u001b[1;34m(self, tup, kwargs, return_kwargs)\u001b[0m\n\u001b[0;32m    499\u001b[0m \u001b[1;33m\u001b[0m\u001b[0m\n\u001b[0;32m    500\u001b[0m         \u001b[1;32mif\u001b[0m \u001b[0mx\u001b[0m\u001b[1;33m.\u001b[0m\u001b[0mshape\u001b[0m\u001b[1;33m[\u001b[0m\u001b[1;36m0\u001b[0m\u001b[1;33m]\u001b[0m \u001b[1;33m!=\u001b[0m \u001b[0my\u001b[0m\u001b[1;33m.\u001b[0m\u001b[0mshape\u001b[0m\u001b[1;33m[\u001b[0m\u001b[1;36m0\u001b[0m\u001b[1;33m]\u001b[0m\u001b[1;33m:\u001b[0m\u001b[1;33m\u001b[0m\u001b[1;33m\u001b[0m\u001b[0m\n\u001b[1;32m--> 501\u001b[1;33m             raise ValueError(f\"x and y must have same first dimension, but \"\n\u001b[0m\u001b[0;32m    502\u001b[0m                              f\"have shapes {x.shape} and {y.shape}\")\n\u001b[0;32m    503\u001b[0m         \u001b[1;32mif\u001b[0m \u001b[0mx\u001b[0m\u001b[1;33m.\u001b[0m\u001b[0mndim\u001b[0m \u001b[1;33m>\u001b[0m \u001b[1;36m2\u001b[0m \u001b[1;32mor\u001b[0m \u001b[0my\u001b[0m\u001b[1;33m.\u001b[0m\u001b[0mndim\u001b[0m \u001b[1;33m>\u001b[0m \u001b[1;36m2\u001b[0m\u001b[1;33m:\u001b[0m\u001b[1;33m\u001b[0m\u001b[1;33m\u001b[0m\u001b[0m\n",
      "\u001b[1;31mValueError\u001b[0m: x and y must have same first dimension, but have shapes (100,) and (1,)"
     ]
    },
    {
     "data": {
      "image/png": "[encoded data removed]",
      "text/plain": [
       "<Figure size 432x288 with 1 Axes>"
      ]
     },
     "metadata": {
      "needs_background": "light"
     },
     "output_type": "display_data"
    }
   ],
   "source": [
    "epochs = range(len(acc))\n",
    "plt.plot(epochs, acc, 'r', label='Training accuracy')\n",
    "plt.plot(epochs, val_acc, 'b', label='Validation accuracy')\n",
    "plt.title('TraiN & Val Acc VS Epochs')\n",
    "plt.legend(loc=0)\n",
    "plt.figure()\n",
    "plt.show()"
   ]
  },
  {
   "cell_type": "code",
   "execution_count": null,
   "metadata": {
    "colab": {
     "base_uri": "https://localhost:8080/",
     "height": 298
    },
    "id": "2yT_i3mtB4zC",
    "outputId": "9ddf3dab-4e65-406f-fa6b-b7a218049b16"
   },
   "outputs": [],
   "source": [
    "epochs = range(len(acc))\n",
    "plt.plot(epochs, loss, 'r', label='Training Loss')\n",
    "plt.plot(epochs, val_loss, 'b', label='Validation Loss')\n",
    "plt.title('TraiN & Val Loss VS Epochs')\n",
    "plt.legend(loc=0)\n",
    "plt.figure()\n",
    "plt.show()"
   ]
  },
  {
   "cell_type": "code",
   "execution_count": 18,
   "metadata": {
    "colab": {
     "base_uri": "https://localhost:8080/"
    },
    "id": "MLDbYtkfAZoT",
    "outputId": "dc975fba-b0a5-473f-def6-5864cdbcf856"
   },
   "outputs": [
    {
     "name": "stdout",
     "output_type": "stream",
     "text": [
      "6/6 [==============================] - 13s 2s/step - loss: 0.6822 - accuracy: 0.5410\n",
      "Test Loss: 0.6822219491004944\n",
      "Test accuracy: 54.09836173057556\n"
     ]
    }
   ],
   "source": [
    "model.load_weights(\"VGG16_Model.h5\")\n",
    "score = model.evaluate(X_val, Y_val ,verbose=1)\n",
    "print('Test Loss:', score[0])\n",
    "print('Test accuracy:', score[1]*100)"
   ]
  },
  {
   "cell_type": "code",
   "execution_count": 19,
   "metadata": {
    "colab": {
     "base_uri": "https://localhost:8080/",
     "height": 298
    },
    "id": "53FrHSBZIwBX",
    "outputId": "1ec9c293-ffa9-43f0-d4bc-9dc1882eebc0"
   },
   "outputs": [
    {
     "data": {
      "text/plain": [
       "Text(0.5, 1.0, 'Confusion Matrix')"
      ]
     },
     "execution_count": 19,
     "metadata": {},
     "output_type": "execute_result"
    },
    {
     "data": {
      "image/png": "[encoded data removed]",
      "text/plain": [
       "<Figure size 432x288 with 2 Axes>"
      ]
     },
     "metadata": {
      "needs_background": "light"
     },
     "output_type": "display_data"
    }
   ],
   "source": [
    "Y_pred = model.predict(X_val)\n",
    "Y_predx = np.argmax(Y_pred, axis = -1)\n",
    "Y_valx = np.argmax(Y_val, axis = -1)\n",
    "cf_matrix = confusion_matrix(Y_valx, Y_predx)\n",
    "group_names = ['True Neg','False Pos','False Neg','True Pos']\n",
    "group_counts = [\"{0:0.0f}\".format(value) for value in\n",
    "                cf_matrix.flatten()]\n",
    "group_percentages = [\"{0:.2%}\".format(value) for value in\n",
    "                     cf_matrix.flatten()/np.sum(cf_matrix)]\n",
    "labels = [f\"{v1}\\n{v2}\\n{v3}\" for v1, v2, v3 in\n",
    "          zip(group_names,group_counts,group_percentages)]\n",
    "labels = np.asarray(labels).reshape(2,2)\n",
    "sns.heatmap(cf_matrix, annot = labels, fmt = '')\n",
    "plt.title(\"Confusion Matrix\")"
   ]
  },
  {
   "cell_type": "code",
   "execution_count": null,
   "metadata": {},
   "outputs": [],
   "source": []
  }
 ],
 "metadata": {
  "accelerator": "GPU",
  "colab": {
   "authorship_tag": "ABX9TyPtthdEBpKBb3PFe3OXUzaG",
   "collapsed_sections": [],
   "include_colab_link": true,
   "name": "COVID Chest X Ray (VGG16)",
   "provenance": []
  },
  "kernelspec": {
   "display_name": "Python 3 (ipykernel)",
   "language": "python",
   "name": "python3"
  },
  "language_info": {
   "codemirror_mode": {
    "name": "ipython",
    "version": 3
   },
   "file_extension": ".py",
   "mimetype": "text/x-python",
   "name": "python",
   "nbconvert_exporter": "python",
   "pygments_lexer": "ipython3",
   "version": "3.9.7"
  }
 },
 "nbformat": 4,
 "nbformat_minor": 1
}
